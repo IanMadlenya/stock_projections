{
 "cells": [
  {
   "cell_type": "markdown",
   "metadata": {},
   "source": [
    "## Model training\n",
    "> In this notebook we train a model for each stock and save it to disk."
   ]
  },
  {
   "cell_type": "markdown",
   "metadata": {},
   "source": [
    "### 1) Here we import the data_manager and model modules \n",
    "> * Here we use the `'companies()'` method from and `'data_manager'` module.\n",
    "> * From the `'model'` module we use the `'model_selector'` method and the `'ModelLoader'` class."
   ]
  },
  {
   "cell_type": "code",
   "execution_count": 1,
   "metadata": {},
   "outputs": [
    {
     "name": "stderr",
     "output_type": "stream",
     "text": [
      "Using TensorFlow backend.\n"
     ]
    }
   ],
   "source": [
    "%load_ext autoreload\n",
    "%aimport data_manager\n",
    "%aimport model\n",
    "%autoreload 1\n",
    "\n",
    "from data_manager import *\n",
    "from model import *"
   ]
  },
  {
   "cell_type": "markdown",
   "metadata": {},
   "source": [
    "###  2) Import company list\n",
    "> Here we read a csv file and import a list of company trade symbols"
   ]
  },
  {
   "cell_type": "code",
   "execution_count": 2,
   "metadata": {},
   "outputs": [
    {
     "name": "stdout",
     "output_type": "stream",
     "text": [
      "['MMM', 'AXP', 'AAPL', 'BA', 'CAT', 'CVX', 'CSCO', 'KO', 'DWDP', 'XOM', 'WBA', 'GS', 'HD', 'IBM', 'INTC', 'JNJ', 'JPM', 'MCD', 'MRK', 'MSFT', 'NKE', 'PFE', 'PG', 'TRV', 'UNH', 'UTX', 'VZ', 'V', 'WMT', 'DIS']\n"
     ]
    }
   ],
   "source": [
    "stocks = companies()\n",
    "symbols = stocks['Symbol'].values.tolist()\n",
    "print(symbols)"
   ]
  },
  {
   "cell_type": "markdown",
   "metadata": {},
   "source": [
    "###  3) RNN model training\n",
    "> In this section we train a RNN model for each stock.\n",
    "\n",
    "In the model selection [notebook](./model_selection.ipynb) we seleted a bidirectional RNN model where we would pass parameter lists and then select the model with lowest MSE test. We use that model here to train every stock."
   ]
  },
  {
   "cell_type": "code",
   "execution_count": 3,
   "metadata": {},
   "outputs": [
    {
     "name": "stdout",
     "output_type": "stream",
     "text": [
      "\n",
      "    *** final_model() ***\n",
      "    ========================\n",
      "        RNN model with following layers:\n",
      "        1) Bidirectional LSTM layer (output size based on X input sequence length)\n",
      "        2) Fully connected layer (output based on input sequence length)\n",
      "        3) Dropout (based on given dropout rate) \n",
      "        4) Fully connected tanh output layer of 1\n",
      "\n",
      "    Parameters\n",
      "    -----------\n",
      "    X: numpy array\n",
      "        input sequence data.\n",
      "\n",
      "    y: numpy array\n",
      "        target sequence data.\n",
      "\n",
      "    learn_rate: float\n",
      "        Neural network learning rate.\n",
      "        \n",
      "    dropout: float\n",
      "        Dropout rate.\n",
      "\n",
      "    Returns \n",
      "    -----------\n",
      "    Returns compiled keras sequential model\n",
      "    \n",
      "\n",
      "    *** model_selector() ***\n",
      "    ========================\n",
      "\n",
      "        Selects the best peforming (base on lowest MSE on test data) model for a given ticker based on \n",
      "        the given widow sizes, learn rates, drop out rates, and epoch counts\n",
      "\n",
      "    Parameter\n",
      "    -----------\n",
      "    ticker: str\n",
      "        company trade symbol.\n",
      "\n",
      "    window_size: list\n",
      "        List of sequence lengths to test.\n",
      "\n",
      "    learn_rates: list\n",
      "        List of learning rates to test.\n",
      "        \n",
      "    dropouts: list`\n",
      "        List of dropouts rates to test.\n",
      "\n",
      "    epochs: list\n",
      "        List of epochs to test.\n",
      "    \n",
      "    batch_size: int\n",
      "        training batch_size\n",
      "\n",
      "    verbose: int [defualt 0]\n",
      "        print to screen indicator.  \n",
      "        If 0 does not print anything to screen.\n",
      "\n",
      "        If 1 prints detail for each model tested and also the \n",
      "        summary detail for choosen model to screen.\n",
      "\n",
      "        If 2 prints summary detail for choosen model to screen.\n",
      "\n",
      "    Returns\n",
      "    -----------\n",
      "    Tuple with two items.  First item is the keras trained model and \n",
      "    second a dictionary with the following keys:\n",
      "        1) ticker: company trade symbol of the trained company \n",
      "        2) test_error :   the model MSE test error  \n",
      "        3) train_error:  the moodel MSE training error \n",
      "        4) dropout:  the moodel drop out rate\n",
      "        5) epoch:  the moodel epoch count\n",
      "        6) learn_rate:  the moodel learning rate\n",
      "        7) window_size:  the sequence length of the input data\n",
      "    \n"
     ]
    }
   ],
   "source": [
    "print(final_model.__doc__)\n",
    "print(model_selector.__doc__)"
   ]
  },
  {
   "cell_type": "code",
   "execution_count": 4,
   "metadata": {},
   "outputs": [],
   "source": [
    "#our model selector input variables\n",
    "window_sizes = [5,7,10]\n",
    "dropouts =  [0.25,0.4]\n",
    "learn_rates = [0.01,0.001]\n",
    "epochs = [100,200]\n",
    "batch_size = 50"
   ]
  },
  {
   "cell_type": "markdown",
   "metadata": {},
   "source": [
    "### Train one stock\n",
    "> Here lets train the first stock in our list and save to disk."
   ]
  },
  {
   "cell_type": "code",
   "execution_count": 5,
   "metadata": {
    "scrolled": false
   },
   "outputs": [
    {
     "name": "stdout",
     "output_type": "stream",
     "text": [
      "*** Best Model Selection for MMM ***\n",
      "============================================================\n",
      "\n",
      "Window size: 5\n",
      "------------------------------------------------------------\n",
      "1     > Learn rate: 0.0100 Dropout: 0.25 Epoch: 100 Training error: 0.0112 Testing error: 0.0137\n",
      "2     > Learn rate: 0.0100 Dropout: 0.25 Epoch: 200 Training error: 0.0070 Testing error: 0.0148\n",
      "3     > Learn rate: 0.0100 Dropout: 0.40 Epoch: 100 Training error: 0.0086 Testing error: 0.0132\n",
      "4     > Learn rate: 0.0100 Dropout: 0.40 Epoch: 200 Training error: 0.0070 Testing error: 0.0157\n",
      "5     > Learn rate: 0.0010 Dropout: 0.25 Epoch: 100 Training error: 0.0104 Testing error: 0.0171\n",
      "6     > Learn rate: 0.0010 Dropout: 0.25 Epoch: 200 Training error: 0.0087 Testing error: 0.0138\n",
      "7     > Learn rate: 0.0010 Dropout: 0.40 Epoch: 100 Training error: 0.0107 Testing error: 0.0167\n",
      "8     > Learn rate: 0.0010 Dropout: 0.40 Epoch: 200 Training error: 0.0098 Testing error: 0.0136\n",
      "\n",
      "Window size: 7\n",
      "------------------------------------------------------------\n",
      "9     > Learn rate: 0.0100 Dropout: 0.25 Epoch: 100 Training error: 0.0132 Testing error: 0.0244\n",
      "10    > Learn rate: 0.0100 Dropout: 0.25 Epoch: 200 Training error: 0.0064 Testing error: 0.0162\n",
      "11    > Learn rate: 0.0100 Dropout: 0.40 Epoch: 100 Training error: 0.0085 Testing error: 0.0140\n",
      "12    > Learn rate: 0.0100 Dropout: 0.40 Epoch: 200 Training error: 0.0075 Testing error: 0.0170\n",
      "13    > Learn rate: 0.0010 Dropout: 0.25 Epoch: 100 Training error: 0.0092 Testing error: 0.0150\n",
      "14    > Learn rate: 0.0010 Dropout: 0.25 Epoch: 200 Training error: 0.0082 Testing error: 0.0143\n",
      "15    > Learn rate: 0.0010 Dropout: 0.40 Epoch: 100 Training error: 0.0096 Testing error: 0.0145\n",
      "16    > Learn rate: 0.0010 Dropout: 0.40 Epoch: 200 Training error: 0.0089 Testing error: 0.0145\n",
      "\n",
      "Window size: 10\n",
      "------------------------------------------------------------\n",
      "17    > Learn rate: 0.0100 Dropout: 0.25 Epoch: 100 Training error: 0.0104 Testing error: 0.0228\n",
      "18    > Learn rate: 0.0100 Dropout: 0.25 Epoch: 200 Training error: 0.0044 Testing error: 0.0130\n",
      "19    > Learn rate: 0.0100 Dropout: 0.40 Epoch: 100 Training error: 0.0097 Testing error: 0.0142\n",
      "20    > Learn rate: 0.0100 Dropout: 0.40 Epoch: 200 Training error: 0.0049 Testing error: 0.0181\n",
      "21    > Learn rate: 0.0010 Dropout: 0.25 Epoch: 100 Training error: 0.0087 Testing error: 0.0138\n",
      "22    > Learn rate: 0.0010 Dropout: 0.25 Epoch: 200 Training error: 0.0084 Testing error: 0.0127\n",
      "23    > Learn rate: 0.0010 Dropout: 0.40 Epoch: 100 Training error: 0.0091 Testing error: 0.0150\n",
      "24    > Learn rate: 0.0010 Dropout: 0.40 Epoch: 200 Training error: 0.0078 Testing error: 0.0123\n",
      "\n",
      "Model selection summary for MMM with window size of 10:\n",
      "------------------------------------------------------------\n",
      " ==> Learn rate: 0.0010 Dropout: 0.40 Epoch: 200 Training error: 0.0078 Testing error: 0.0123\n",
      "\n",
      "Results : \n",
      "------------------------------------------------------------\n",
      "<keras.models.Sequential object at 0x000000AF0F8AC9B0>\n",
      "{'ticker': 'MMM', 'test_error': 0.0123, 'learn_rate': 0.001, 'dropout': 0.4, 'epoch': 200, 'train_error': 0.0078, 'window_size': 10}\n",
      "Saved trained model for MMM\n"
     ]
    }
   ],
   "source": [
    "result = model_selector(symbols[0], window_sizes, learn_rates, dropouts, epochs, batch_size,verbose=1)\n",
    "\n",
    "print(\"\\nResults : \")\n",
    "print(\"-\"*60)\n",
    "print(result[0])\n",
    "\n",
    "print(result[1])\n",
    "#save trained model\n",
    "ModelLoader.save(result[1]['ticker'],result[0],result[1])\n",
    "print(\"Saved trained model for {}\".format(result[1]['ticker']))"
   ]
  },
  {
   "cell_type": "markdown",
   "metadata": {},
   "source": [
    "### Training remaining stocks\n",
    "> * Here train the remaining stocks and save the model to directory."
   ]
  },
  {
   "cell_type": "code",
   "execution_count": 6,
   "metadata": {
    "scrolled": false
   },
   "outputs": [
    {
     "name": "stdout",
     "output_type": "stream",
     "text": [
      "\n",
      "Model selection summary for AXP with window size of 7:\n",
      "------------------------------------------------------------\n",
      " ==> Learn rate: 0.0100 Dropout: 0.40 Epoch: 100 Training error: 0.0082 Testing error: 0.0219\n",
      " ==> Saved trained model for AXP\n",
      "\n",
      "Model selection summary for AAPL with window size of 7:\n",
      "------------------------------------------------------------\n",
      " ==> Learn rate: 0.0100 Dropout: 0.25 Epoch: 100 Training error: 0.0069 Testing error: 0.0301\n",
      " ==> Saved trained model for AAPL\n",
      "\n",
      "Model selection summary for BA with window size of 7:\n",
      "------------------------------------------------------------\n",
      " ==> Learn rate: 0.0010 Dropout: 0.25 Epoch: 200 Training error: 0.0036 Testing error: 0.0054\n",
      " ==> Saved trained model for BA\n",
      "\n",
      "Model selection summary for CAT with window size of 5:\n",
      "------------------------------------------------------------\n",
      " ==> Learn rate: 0.0010 Dropout: 0.25 Epoch: 200 Training error: 0.0055 Testing error: 0.0081\n",
      " ==> Saved trained model for CAT\n",
      "\n",
      "Model selection summary for CVX with window size of 7:\n",
      "------------------------------------------------------------\n",
      " ==> Learn rate: 0.0010 Dropout: 0.25 Epoch: 100 Training error: 0.0088 Testing error: 0.0108\n",
      " ==> Saved trained model for CVX\n",
      "\n",
      "Model selection summary for CSCO with window size of 7:\n",
      "------------------------------------------------------------\n",
      " ==> Learn rate: 0.0100 Dropout: 0.40 Epoch: 200 Training error: 0.0032 Testing error: 0.0100\n",
      " ==> Saved trained model for CSCO\n",
      "\n",
      "Model selection summary for KO with window size of 5:\n",
      "------------------------------------------------------------\n",
      " ==> Learn rate: 0.0100 Dropout: 0.25 Epoch: 200 Training error: 0.0084 Testing error: 0.0153\n",
      " ==> Saved trained model for KO\n",
      "\n",
      "Model selection summary for DWDP with window size of 5:\n",
      "------------------------------------------------------------\n",
      " ==> Learn rate: 0.0010 Dropout: 0.25 Epoch: 100 Training error: 0.0185 Testing error: 0.0194\n",
      " ==> Saved trained model for DWDP\n",
      "\n",
      "Model selection summary for XOM with window size of 5:\n",
      "------------------------------------------------------------\n",
      " ==> Learn rate: 0.0100 Dropout: 0.25 Epoch: 200 Training error: 0.0070 Testing error: 0.0214\n",
      " ==> Saved trained model for XOM\n",
      "\n",
      "Model selection summary for WBA with window size of 5:\n",
      "------------------------------------------------------------\n",
      " ==> Learn rate: 0.0100 Dropout: 0.25 Epoch: 200 Training error: 0.0090 Testing error: 0.0157\n",
      " ==> Saved trained model for WBA\n",
      "\n",
      "Model selection summary for GS with window size of 7:\n",
      "------------------------------------------------------------\n",
      " ==> Learn rate: 0.0010 Dropout: 0.40 Epoch: 200 Training error: 0.0122 Testing error: 0.0151\n",
      " ==> Saved trained model for GS\n",
      "\n",
      "Model selection summary for HD with window size of 7:\n",
      "------------------------------------------------------------\n",
      " ==> Learn rate: 0.0100 Dropout: 0.25 Epoch: 200 Training error: 0.0044 Testing error: 0.0063\n",
      " ==> Saved trained model for HD\n",
      "\n",
      "Model selection summary for IBM with window size of 7:\n",
      "------------------------------------------------------------\n",
      " ==> Learn rate: 0.0010 Dropout: 0.40 Epoch: 100 Training error: 0.0175 Testing error: 0.0236\n",
      " ==> Saved trained model for IBM\n",
      "\n",
      "Model selection summary for INTC with window size of 10:\n",
      "------------------------------------------------------------\n",
      " ==> Learn rate: 0.0100 Dropout: 0.40 Epoch: 100 Training error: 0.0052 Testing error: 0.0096\n",
      " ==> Saved trained model for INTC\n",
      "\n",
      "Model selection summary for JNJ with window size of 10:\n",
      "------------------------------------------------------------\n",
      " ==> Learn rate: 0.0010 Dropout: 0.25 Epoch: 100 Training error: 0.0101 Testing error: 0.0362\n",
      " ==> Saved trained model for JNJ\n",
      "\n",
      "Model selection summary for JPM with window size of 10:\n",
      "------------------------------------------------------------\n",
      " ==> Learn rate: 0.0010 Dropout: 0.25 Epoch: 200 Training error: 0.0055 Testing error: 0.0092\n",
      " ==> Saved trained model for JPM\n",
      "\n",
      "Model selection summary for MCD with window size of 5:\n",
      "------------------------------------------------------------\n",
      " ==> Learn rate: 0.0010 Dropout: 0.25 Epoch: 200 Training error: 0.0138 Testing error: 0.0237\n",
      " ==> Saved trained model for MCD\n",
      "\n",
      "Model selection summary for MRK with window size of 5:\n",
      "------------------------------------------------------------\n",
      " ==> Learn rate: 0.0100 Dropout: 0.25 Epoch: 200 Training error: 0.0114 Testing error: 0.0183\n",
      " ==> Saved trained model for MRK\n",
      "\n",
      "Model selection summary for MSFT with window size of 10:\n",
      "------------------------------------------------------------\n",
      " ==> Learn rate: 0.0100 Dropout: 0.25 Epoch: 100 Training error: 0.0090 Testing error: 0.0062\n",
      " ==> Saved trained model for MSFT\n",
      "\n",
      "Model selection summary for NKE with window size of 10:\n",
      "------------------------------------------------------------\n",
      " ==> Learn rate: 0.0100 Dropout: 0.25 Epoch: 200 Training error: 0.0063 Testing error: 0.0171\n",
      " ==> Saved trained model for NKE\n",
      "\n",
      "Model selection summary for PFE with window size of 7:\n",
      "------------------------------------------------------------\n",
      " ==> Learn rate: 0.0010 Dropout: 0.25 Epoch: 100 Training error: 0.0126 Testing error: 0.0090\n",
      " ==> Saved trained model for PFE\n",
      "\n",
      "Model selection summary for PG with window size of 5:\n",
      "------------------------------------------------------------\n",
      " ==> Learn rate: 0.0100 Dropout: 0.25 Epoch: 200 Training error: 0.0042 Testing error: 0.0175\n",
      " ==> Saved trained model for PG\n",
      "\n",
      "Model selection summary for TRV with window size of 7:\n",
      "------------------------------------------------------------\n",
      " ==> Learn rate: 0.0010 Dropout: 0.25 Epoch: 200 Training error: 0.0071 Testing error: 0.0065\n",
      " ==> Saved trained model for TRV\n",
      "\n",
      "Model selection summary for UNH with window size of 7:\n",
      "------------------------------------------------------------\n",
      " ==> Learn rate: 0.0100 Dropout: 0.25 Epoch: 100 Training error: 0.0155 Testing error: 0.0133\n",
      " ==> Saved trained model for UNH\n",
      "\n",
      "Model selection summary for UTX with window size of 5:\n",
      "------------------------------------------------------------\n",
      " ==> Learn rate: 0.0100 Dropout: 0.25 Epoch: 100 Training error: 0.0098 Testing error: 0.0075\n",
      " ==> Saved trained model for UTX\n",
      "\n",
      "Model selection summary for VZ with window size of 5:\n",
      "------------------------------------------------------------\n",
      " ==> Learn rate: 0.0100 Dropout: 0.25 Epoch: 200 Training error: 0.0061 Testing error: 0.0118\n",
      " ==> Saved trained model for VZ\n",
      "\n",
      "Model selection summary for V with window size of 10:\n",
      "------------------------------------------------------------\n",
      " ==> Learn rate: 0.0100 Dropout: 0.25 Epoch: 200 Training error: 0.0023 Testing error: 0.0170\n",
      " ==> Saved trained model for V\n",
      "\n",
      "Model selection summary for WMT with window size of 10:\n",
      "------------------------------------------------------------\n",
      " ==> Learn rate: 0.0100 Dropout: 0.40 Epoch: 200 Training error: 0.0067 Testing error: 0.0034\n",
      " ==> Saved trained model for WMT\n",
      "\n",
      "Model selection summary for DIS with window size of 5:\n",
      "------------------------------------------------------------\n",
      " ==> Learn rate: 0.0100 Dropout: 0.40 Epoch: 100 Training error: 0.0215 Testing error: 0.0178\n",
      " ==> Saved trained model for DIS\n"
     ]
    }
   ],
   "source": [
    "from keras import backend as K\n",
    "import tensorflow as tf\n",
    "\n",
    "for ticker in symbols[1:]:\n",
    "    #release memory\n",
    "    K.clear_session()\n",
    "    tf.reset_default_graph()\n",
    "    \n",
    "    result = model_selector(ticker, window_sizes, learn_rates, dropouts, epochs, batch_size,verbose=2)\n",
    "    \n",
    "    #save trained model\n",
    "    ModelLoader.save(result[1]['ticker'],result[0],result[1])\n",
    "    print(\" ==> Saved trained model for {}\".format(result[1]['ticker']))\n"
   ]
  }
 ],
 "metadata": {
  "anaconda-cloud": {},
  "kernelspec": {
   "display_name": "Python [conda env:dl]",
   "language": "python",
   "name": "conda-env-dl-py"
  },
  "language_info": {
   "codemirror_mode": {
    "name": "ipython",
    "version": 3
   },
   "file_extension": ".py",
   "mimetype": "text/x-python",
   "name": "python",
   "nbconvert_exporter": "python",
   "pygments_lexer": "ipython3",
   "version": "3.6.5"
  }
 },
 "nbformat": 4,
 "nbformat_minor": 2
}
